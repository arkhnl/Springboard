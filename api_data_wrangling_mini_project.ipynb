{
 "cells": [
  {
   "cell_type": "markdown",
   "metadata": {},
   "source": [
    "This exercise will require you to pull some data from the Qunadl API. Qaundl is currently the most widely used aggregator of financial market data."
   ]
  },
  {
   "cell_type": "markdown",
   "metadata": {},
   "source": [
    "As a first step, you will need to register a free account on the http://www.quandl.com website."
   ]
  },
  {
   "cell_type": "markdown",
   "metadata": {},
   "source": [
    "After you register, you will be provided with a unique API key, that you should store:"
   ]
  },
  {
   "cell_type": "code",
   "execution_count": null,
   "metadata": {
    "collapsed": true
   },
   "outputs": [],
   "source": [
    "# Store the API key as a string - according to PEP8, constants are always named in all upper case"
   ]
  },
  {
   "cell_type": "markdown",
   "metadata": {},
   "source": [
    "Qaundl has a large number of data sources, but, unfortunately, most of them require a Premium subscription. Still, there are also a good number of free datasets."
   ]
  },
  {
   "cell_type": "markdown",
   "metadata": {},
   "source": [
    "For this mini project, we will focus on equities data from the Frankfurt Stock Exhange (FSE), which is available for free. We'll try and analyze the stock prices of a company called Carl Zeiss Meditec, which manufactures tools for eye examinations, as well as medical lasers for laser eye surgery: https://www.zeiss.com/meditec/int/home.html. The company is listed under the stock ticker AFX_X."
   ]
  },
  {
   "cell_type": "markdown",
   "metadata": {},
   "source": [
    "You can find the detailed Quandl API instructions here: https://docs.quandl.com/docs/time-series"
   ]
  },
  {
   "cell_type": "markdown",
   "metadata": {},
   "source": [
    "While there is a dedicated Python package for connecting to the Quandl API, we would prefer that you use the *requests* package, which can be easily downloaded using *pip* or *conda*. You can find the documentation for the package here: http://docs.python-requests.org/en/master/ "
   ]
  },
  {
   "cell_type": "markdown",
   "metadata": {},
   "source": [
    "Finally, apart from the *requests* package, you are encouraged to not use any third party Python packages, such as *pandas*, and instead focus on what's available in the Python Standard Library (the *collections* module might come in handy: https://pymotw.com/3/collections/).\n",
    "Also, since you won't have access to DataFrames, you are encouraged to us Python's native data structures - preferably dictionaries, though some questions can also be answered using lists.\n",
    "You can read more on these data structures here: https://docs.python.org/3/tutorial/datastructures.html"
   ]
  },
  {
   "cell_type": "markdown",
   "metadata": {},
   "source": [
    "Keep in mind that the JSON responses you will be getting from the API map almost one-to-one to Python's dictionaries. Unfortunately, they can be very nested, so make sure you read up on indexing dictionaries in the documentation provided above."
   ]
  },
  {
   "cell_type": "code",
   "execution_count": 1,
   "metadata": {
    "collapsed": true
   },
   "outputs": [],
   "source": [
    "# First, import the relevant modules\n",
    "import requests\n",
    "import json\n"
   ]
  },
  {
   "cell_type": "code",
   "execution_count": 42,
   "metadata": {
    "collapsed": false
   },
   "outputs": [
    {
     "name": "stdout",
     "output_type": "stream",
     "text": [
      "dataset:  {'id': 10095370, 'dataset_code': 'AFX_X', 'database_code': 'FSE', 'name': 'Carl Zeiss Meditec (AFX_X)', 'description': 'Stock Prices for Carl Zeiss Meditec (AFX) from the Frankfurt Stock Exchange.<br><br>Trading System: Xetra<br><br>ISIN: DE0005313704', 'refreshed_at': '2018-07-05T22:31:28.322Z', 'newest_available_date': '2018-07-05', 'oldest_available_date': '2000-06-07', 'column_names': ['Date', 'Open', 'High', 'Low', 'Close', 'Change', 'Traded Volume', 'Turnover', 'Last Price of the Day', 'Daily Traded Units', 'Daily Turnover'], 'frequency': 'daily', 'type': 'Time Series', 'premium': False, 'limit': None, 'transform': None, 'column_index': None, 'start_date': '2018-07-05', 'end_date': '2018-07-05', 'data': [['2018-07-05', None, 61.6, 60.85, 61.4, None, 53878.0, 3301491.0, None, None, None]], 'collapse': None, 'order': None, 'database_id': 6129}\n"
     ]
    }
   ],
   "source": [
    "# Now, call the Quandl API and pull out a small sample of the data (only one day) to get a glimpse\n",
    "# into the JSON structure that will be returned\n",
    "url = \"https://www.quandl.com/api/v3/datasets/FSE/AFX_X.json?start_date=2018-07-05&end_date=2018-07-05api_key=MLV9xy7wbXrqVLWN7_3x\"\n",
    "r = requests.get(url)\n",
    "json_data = r.json()\n",
    "json_header = r.headers\n",
    "for k in json_data.keys():\n",
    "    print(k + ': ', json_data[k])\n"
   ]
  },
  {
   "cell_type": "code",
   "execution_count": null,
   "metadata": {
    "collapsed": true
   },
   "outputs": [],
   "source": [
    "# Inspect the JSON structure of the object you created, and take note of how nested it is,\n",
    "# as well as the overall structure\n"
   ]
  },
  {
   "cell_type": "markdown",
   "metadata": {},
   "source": [
    "These are your tasks for this mini project:\n",
    "\n",
    "1. Collect data from the Franfurt Stock Exchange, for the ticker AFX_X, for the whole year 2017 (keep in mind that the date format is YYYY-MM-DD).\n",
    "2. Convert the returned JSON object into a Python dictionary.\n",
    "3. Calculate what the highest and lowest opening prices were for the stock in this period.\n",
    "4. What was the largest change in any one day (based on High and Low price)?\n",
    "5. What was the largest change between any two days (based on Closing Price)?\n",
    "6. What was the average daily trading volume during this year?\n",
    "7. (Optional) What was the median trading volume during this year. (Note: you may need to implement your own function for calculating the median.)"
   ]
  },
  {
   "cell_type": "code",
   "execution_count": 71,
   "metadata": {
    "collapsed": false
   },
   "outputs": [
    {
     "name": "stdout",
     "output_type": "stream",
     "text": [
      "Max opening price is 53.11 and Min opening price is 34.0\n",
      "Max change is -0.44\n"
     ]
    }
   ],
   "source": [
    "url = \"https://www.quandl.com/api/v3/datasets/FSE/AFX_X.json?start_date=2017-01-01&end_date=2017-12-30api_key=MLV9xy7wbXrqVLWN7_3x\"\n",
    "r = requests.get(url)\n",
    "json_data1 = r.json()\n",
    "dict_data = json_data1['dataset']['data']\n",
    "opening_data = []\n",
    "high_data = []\n",
    "low_data =[]\n",
    "close_data =[]\n",
    "change_data = []\n",
    "trade_vol_data =[]\n",
    "for entry in dict_data:\n",
    "    opening = entry[1]\n",
    "    high = entry[2]\n",
    "    low = entry[3]\n",
    "    close = entry[4]\n",
    "    change = entry[5]\n",
    "    trade_vol = entry[6]\n",
    "    opening_data.append(opening)\n",
    "    high_data.append(high)\n",
    "    low_data.append(low)\n",
    "    close_data.append(close)\n",
    "    change_data.append(change)\n",
    "    trade_vol_data.append(trade_vol)\n",
    "clean_open_data = [x for x in opening_data if x != None]\n",
    "clean_high_data = [x for x in high_data if x != None]\n",
    "clean_low_data = [x for x in low_data if x != None]\n",
    "clean_close_data = [x for x in close_data if x != None]\n",
    "clean_change_data = [x for x in change_data if x != None]\n",
    "clean_trade_data = [x for x in trade_vol_data if x != None]\n",
    "max_open = max(clean_open_data)\n",
    "min_open = min(clean_open_data)\n",
    "max_change = max(change_open_data)       \n",
    "print ('Max opening price is {} and Min opening price is {}'.format(max_open,min_open))\n",
    "print ('Max change is {}'.format(max_change))"
   ]
  },
  {
   "cell_type": "code",
   "execution_count": 129,
   "metadata": {
    "collapsed": false
   },
   "outputs": [
    {
     "name": "stdout",
     "output_type": "stream",
     "text": [
      " largest change between any two days (based on Closing Price) is 2.559999999999995\n"
     ]
    }
   ],
   "source": [
    "diff_close_change = [abs(i-j) for i,j in zip (close_data,close_data[1:])]\n",
    "print(' largest change between any two days (based on Closing Price) is {}'.format(max(diff_close_change)))"
   ]
  },
  {
   "cell_type": "code",
   "execution_count": 128,
   "metadata": {
    "collapsed": false
   },
   "outputs": [
    {
     "name": "stdout",
     "output_type": "stream",
     "text": [
      "largest change in any one day (based on High and Low price) is 2.8100000000000023\n"
     ]
    }
   ],
   "source": [
    "diff_change = [abs(i-j) for i,j in zip (high_data,low_data)]\n",
    "print('largest change in any one day (based on High and Low price) is {}'.format(max(diff_change)))"
   ]
  },
  {
   "cell_type": "code",
   "execution_count": 131,
   "metadata": {
    "collapsed": false
   },
   "outputs": [
    {
     "name": "stdout",
     "output_type": "stream",
     "text": [
      "the average daily trading volume during this year is 89124.33725490196\n"
     ]
    }
   ],
   "source": [
    "avg = sum(clean_trade_data)/len(clean_trade_data)\n",
    "print('the average daily trading volume during this year is {}'.format(avg))"
   ]
  },
  {
   "cell_type": "code",
   "execution_count": 119,
   "metadata": {
    "collapsed": false
   },
   "outputs": [],
   "source": [
    "def med(l):\n",
    "    srtl = sorted(l)\n",
    "    length = len(srtl)\n",
    "    if length%2 == 1:\n",
    "       return srtl[int(0.5*(length+1)-1)]\n",
    "    else:\n",
    "        upper = srtl[int(0.5*(length))-1]\n",
    "        lower =  srtl[int(0.5*(length))]\n",
    "        return float(srtl[upper]+l[lower])/2"
   ]
  },
  {
   "cell_type": "code",
   "execution_count": 132,
   "metadata": {
    "collapsed": false
   },
   "outputs": [
    {
     "name": "stdout",
     "output_type": "stream",
     "text": [
      "the average daily trading volume during this year is 76286.0\n"
     ]
    }
   ],
   "source": [
    "print('the average daily trading volume during this year is {}'.format(med(clean_trade_data)))"
   ]
  },
  {
   "cell_type": "code",
   "execution_count": null,
   "metadata": {
    "collapsed": false
   },
   "outputs": [],
   "source": []
  },
  {
   "cell_type": "code",
   "execution_count": null,
   "metadata": {
    "collapsed": true
   },
   "outputs": [],
   "source": []
  }
 ],
 "metadata": {
  "kernelspec": {
   "display_name": "Python 3",
   "language": "python",
   "name": "python3"
  },
  "language_info": {
   "codemirror_mode": {
    "name": "ipython",
    "version": 3
   },
   "file_extension": ".py",
   "mimetype": "text/x-python",
   "name": "python",
   "nbconvert_exporter": "python",
   "pygments_lexer": "ipython3",
   "version": "3.6.0"
  }
 },
 "nbformat": 4,
 "nbformat_minor": 2
}
